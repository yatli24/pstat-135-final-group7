{
  "nbformat": 4,
  "nbformat_minor": 0,
  "metadata": {
    "colab": {
      "provenance": []
    },
    "kernelspec": {
      "name": "python3",
      "display_name": "Python 3"
    },
    "language_info": {
      "name": "python"
    }
  },
  "cells": [
    {
      "cell_type": "markdown",
      "source": [
        "# 1.2 Shell Script in Cloud Shell"
      ],
      "metadata": {
        "id": "qWn9_3AyJtWD"
      }
    },
    {
      "cell_type": "code",
      "execution_count": null,
      "metadata": {
        "id": "iKrgR2deJrAE"
      },
      "outputs": [],
      "source": [
        "'''\n",
        "# Array of state codes\n",
        "states=(\n",
        "  AK AL AR AZ CO CT DC DE GA HI\n",
        "  IA ID IL IN KS KY LA MA MD ME\n",
        "  MI MN MO MS MT NC ND NE NH NJ\n",
        "  NM NV OH OK OR RI SC SD TN UT\n",
        "  VA VT WA WI WV WY\n",
        ")\n",
        "\n",
        "PROJECT=\"pstat-135-235-spring-2025\"\n",
        "DATASET=\"voterfile\"\n",
        "\n",
        "for state in \"${states[@]}\"; do\n",
        "  TABLE=\"${PROJECT}:${DATASET}.${state}\"\n",
        "\n",
        "  # Check if the table exists\n",
        "  if bq ls \"${PROJECT}:${DATASET}\" | awk '{print $1}' | grep -qw \"$state\"; then\n",
        "    # Query row count and extract clean value\n",
        "    ROWS=$(bq query --nouse_legacy_sql --format=csv \\\n",
        "      \"SELECT COUNT(*) FROM \\`${PROJECT}.${DATASET}.${state}\\`\" | tail -n 1)\n",
        "    echo \"$state: $ROWS rows\"\n",
        "  else\n",
        "    echo \"$state: Error, unable to count rows\"\n",
        "  fi\n",
        "done\n",
        "'''"
      ]
    },
    {
      "cell_type": "markdown",
      "source": [
        "The script first defines an array of state codes, the project name, and dataset name. It loops through each state, checks if the state table exists, queries the row count, and prints the result."
      ],
      "metadata": {
        "id": "DkqzQRuiKUx3"
      }
    },
    {
      "cell_type": "markdown",
      "source": [
        "# 1.3 Voter Turnout SQL Query\n"
      ],
      "metadata": {
        "id": "sQq0KOsJRmCd"
      }
    },
    {
      "cell_type": "code",
      "source": [
        "'''\n",
        "SELECT\n",
        "  2000 AS year,\n",
        "  AVG(CASE WHEN General_2000 = 'Y' THEN 1.0 ELSE 0 END) AS turnout\n",
        "FROM `pstat-135-235-spring-2025.voterfile.AK`\n",
        "\n",
        "UNION ALL\n",
        "\n",
        "SELECT\n",
        "  2002 AS year,\n",
        "  AVG(CASE WHEN General_2002 = 'Y' THEN 1.0 ELSE 0 END) AS turnout\n",
        "FROM `pstat-135-235-spring-2025.voterfile.AK`\n",
        "\n",
        "UNION ALL\n",
        "\n",
        "SELECT\n",
        "  2004 AS year,\n",
        "  AVG(CASE WHEN General_2004 = 'Y' THEN 1.0 ELSE 0 END) AS turnout\n",
        "FROM `pstat-135-235-spring-2025.voterfile.AK`\n",
        "\n",
        "UNION ALL\n",
        "\n",
        "SELECT\n",
        "  2006 AS year,\n",
        "  AVG(CASE WHEN General_2006 = 'Y' THEN 1.0 ELSE 0 END) AS turnout\n",
        "FROM `pstat-135-235-spring-2025.voterfile.AK`\n",
        "\n",
        "UNION ALL\n",
        "\n",
        "SELECT\n",
        "  2008 AS year,\n",
        "  AVG(CASE WHEN General_2008 = 'Y' THEN 1.0 ELSE 0 END) AS turnout\n",
        "FROM `pstat-135-235-spring-2025.voterfile.AK`\n",
        "\n",
        "UNION ALL\n",
        "\n",
        "SELECT\n",
        "  2010 AS year,\n",
        "  AVG(CASE WHEN General_2010 = 'Y' THEN 1.0 ELSE 0 END) AS turnout\n",
        "FROM `pstat-135-235-spring-2025.voterfile.AK`\n",
        "\n",
        "UNION ALL\n",
        "\n",
        "SELECT\n",
        "  2012 AS year,\n",
        "  AVG(CASE WHEN General_2012 = 'Y' THEN 1.0 ELSE 0 END) AS turnout\n",
        "FROM `pstat-135-235-spring-2025.voterfile.AK`\n",
        "\n",
        "UNION ALL\n",
        "\n",
        "SELECT\n",
        "  2014 AS year,\n",
        "  AVG(CASE WHEN General_2014 = 'Y' THEN 1.0 ELSE 0 END) AS turnout\n",
        "FROM `pstat-135-235-spring-2025.voterfile.AK`\n",
        "\n",
        "UNION ALL\n",
        "\n",
        "SELECT\n",
        "  2016 AS year,\n",
        "  AVG(CASE WHEN General_2016 = 'Y' THEN 1.0 ELSE 0 END) AS turnout\n",
        "FROM `pstat-135-235-spring-2025.voterfile.AK`\n",
        "\n",
        "UNION ALL\n",
        "\n",
        "SELECT\n",
        "  2018 AS year,\n",
        "  AVG(CASE WHEN General_2018 = 'Y' THEN 1.0 ELSE 0 END) AS turnout\n",
        "FROM `pstat-135-235-spring-2025.voterfile.AK`\n",
        "\n",
        "ORDER BY year;\n",
        "'''"
      ],
      "metadata": {
        "id": "2gZUJL9JRrvg"
      },
      "execution_count": null,
      "outputs": []
    },
    {
      "cell_type": "markdown",
      "source": [
        "The SQL query returns two columns, `year` and `turnout`, which are the year and turnout rate respectively."
      ],
      "metadata": {
        "id": "zXLnROvjRtaS"
      }
    }
  ]
}