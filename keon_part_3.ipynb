{
 "cells": [
  {
   "cell_type": "code",
   "execution_count": 0,
   "metadata": {
    "application/vnd.databricks.v1+cell": {
     "cellMetadata": {
      "byteLimit": 2048000,
      "rowLimit": 10000
     },
     "inputWidgets": {},
     "nuid": "1f0464d6-58a3-4b40-ae49-7552cb145f53",
     "showTitle": false,
     "tableResultSettingsMap": {},
     "title": ""
    }
   },
   "outputs": [],
   "source": [
    "bucket_dir = 'gs://pstat135-voter-file/VM2Uniform/'\n",
    "df = spark.read.parquet(bucket_dir + 'VM2Uniform--AK--2021-02-03')"
   ]
  },
  {
   "cell_type": "markdown",
   "metadata": {
    "application/vnd.databricks.v1+cell": {
     "cellMetadata": {
      "byteLimit": 2048000,
      "rowLimit": 10000
     },
     "inputWidgets": {},
     "nuid": "580b5ab4-2191-4c24-92ad-4dcc716d5efc",
     "showTitle": false,
     "tableResultSettingsMap": {},
     "title": ""
    }
   },
   "source": [
    "We want to create a model to predict the party affiliation of a voter (Parties_Description), using seven predictors that are indicators of socioeconomic status: \n",
    "\n",
    "CommercialData_EstimatedHHIncome, Ethnic_Description, Voters_gender, CommercialData_EstHomeValue, CommercialData_Education, Voters_age, and CommercialData_OccupationGroup"
   ]
  },
  {
   "cell_type": "markdown",
   "metadata": {
    "application/vnd.databricks.v1+cell": {
     "cellMetadata": {
      "byteLimit": 2048000,
      "rowLimit": 10000
     },
     "inputWidgets": {},
     "nuid": "1c555f44-c1bf-4e87-9147-806b7b40cc15",
     "showTitle": false,
     "tableResultSettingsMap": {},
     "title": ""
    }
   },
   "source": [
    "Here, we'll implement a **Lasso Logistic Regression** model to see if the penalty applied to less important features will improve model accuracy. Also, this will hopefully give us insight into which of these socioeconomic features are less important and may remove these features entirely. "
   ]
  },
  {
   "cell_type": "code",
   "execution_count": 0,
   "metadata": {
    "application/vnd.databricks.v1+cell": {
     "cellMetadata": {
      "byteLimit": 2048000,
      "rowLimit": 10000
     },
     "inputWidgets": {},
     "nuid": "569a11a3-d83f-4474-88ac-2a16976658f9",
     "showTitle": false,
     "tableResultSettingsMap": {},
     "title": ""
    }
   },
   "outputs": [],
   "source": [
    "# Data Preprocessing\n",
    "\n",
    "from sklearn.model_selection import train_test_split\n",
    "from pyspark.sql.functions import when, col, count, regexp_replace, lit\n",
    "from pyspark.ml.feature import StringIndexer\n",
    "from pyspark.sql import DataFrame\n",
    "\n",
    "df = df.filter(~col(\"Parties_Description\").isin([\"Unknown\", \"Other\"]))\n",
    "\n",
    "# Convert Voters_Gender to binary\n",
    "df = df.withColumn(\n",
    "    \"Voters_Gender\",\n",
    "    when(col(\"Voters_Gender\") == \"M\", 1).otherwise(0)\n",
    ")\n",
    "\n",
    "# Convert CommercialData_EstHomeValue to numeric\n",
    "df = df.withColumn(\n",
    "    \"CommercialData_EstHomeValue\",\n",
    "    regexp_replace(col(\"CommercialData_EstHomeValue\"), \"\\\\$\", \"\").cast(\"float\")\n",
    ")\n",
    "\n",
    "df = df.withColumn(\"CommercialData_EstHomeValue\", col(\"CommercialData_EstHomeValue\").cast(\"float\"))\n",
    "\n",
    "# Convert Voters_Age to numeric with error coercion\n",
    "df = df.withColumn(\"Voters_Age\", col(\"Voters_Age\").cast(\"float\"))\n",
    "\n",
    "relevant_cols = [\n",
    "    \"CommercialData_EstimatedHHIncome\", \"Ethnic_Description\", \"Voters_Gender\",\n",
    "    \"CommercialData_EstHomeValue\", \"CommercialData_Education\",\n",
    "    \"Voters_Age\", \"CommercialData_OccupationGroup\", \"Parties_Description\"\n",
    "]\n",
    "df = df.dropna(subset=relevant_cols)\n",
    "\n",
    "train_df, test_df = df.randomSplit([0.8, 0.2], seed=56)"
   ]
  },
  {
   "cell_type": "code",
   "execution_count": 0,
   "metadata": {
    "application/vnd.databricks.v1+cell": {
     "cellMetadata": {
      "byteLimit": 2048000,
      "rowLimit": 10000
     },
     "inputWidgets": {},
     "nuid": "2fcb9f86-9233-472c-b2e8-c035873cebc8",
     "showTitle": false,
     "tableResultSettingsMap": {},
     "title": ""
    }
   },
   "outputs": [],
   "source": [
    "\n",
    "label_col = \"Parties_Description\"\n",
    "class_counts = df.groupBy(label_col).count()\n",
    "#class_counts.show()"
   ]
  },
  {
   "cell_type": "code",
   "execution_count": 0,
   "metadata": {
    "application/vnd.databricks.v1+cell": {
     "cellMetadata": {
      "byteLimit": 2048000,
      "rowLimit": 10000
     },
     "inputWidgets": {},
     "nuid": "636c62ac-312b-438d-8558-8183eb45c5fe",
     "showTitle": false,
     "tableResultSettingsMap": {},
     "title": ""
    }
   },
   "outputs": [
    {
     "output_type": "stream",
     "name": "stdout",
     "output_type": "stream",
     "text": [
      "['CommercialData_EstimatedHHIncome', 'Ethnic_Description', 'CommercialData_Education', 'CommercialData_OccupationGroup', 'Parties_Description']\n['Voters_Gender', 'CommercialData_EstHomeValue', 'Voters_Age']\n"
     ]
    }
   ],
   "source": [
    "predictor_cols = [\n",
    "    \"CommercialData_EstimatedHHIncome\", \"Ethnic_Description\", \"Voters_Gender\",\n",
    "    \"CommercialData_EstHomeValue\", \"CommercialData_Education\",\n",
    "    \"Voters_Age\", \"CommercialData_OccupationGroup\"]\n",
    "\n",
    "train_df = train_df.select(predictor_cols + [label_col])\n",
    "test_df = test_df.select(predictor_cols + [label_col])\n",
    "\n",
    "categorical_cols = [field for (field, dtype) in train_df.dtypes if dtype == \"string\" or dtype == \"boolean\"]\n",
    "numeric_cols = [field for (field, dtype) in train_df.dtypes if dtype in (\"int\", \"double\", \"float\")]\n",
    "\n",
    "#print(categorical_cols)\n",
    "#print(numeric_cols)\n"
   ]
  },
  {
   "cell_type": "code",
   "execution_count": 0,
   "metadata": {
    "application/vnd.databricks.v1+cell": {
     "cellMetadata": {
      "byteLimit": 2048000,
      "rowLimit": 10000
     },
     "inputWidgets": {},
     "nuid": "ecdea222-b06a-4b60-a34f-eab1fb7621ad",
     "showTitle": false,
     "tableResultSettingsMap": {},
     "title": ""
    }
   },
   "outputs": [
    {
     "output_type": "stream",
     "name": "stdout",
     "output_type": "stream",
     "text": [
      "DataFrame[CommercialData_EstimatedHHIncome: string, Ethnic_Description: string, Voters_Gender: int, CommercialData_EstHomeValue: float, CommercialData_Education: string, Voters_Age: float, CommercialData_OccupationGroup: string, Parties_Description: string]\n"
     ]
    },
    {
     "output_type": "display_data",
     "data": {
      "application/vnd.jupyter.widget-view+json": {
       "model_id": "328d5955a5ec4ddcbd1510389550dfed",
       "version_major": 2,
       "version_minor": 0
      },
      "text/plain": [
       "Downloading artifacts:   0%|          | 0/120 [00:00<?, ?it/s]"
      ]
     },
     "metadata": {},
     "output_type": "display_data"
    },
    {
     "output_type": "display_data",
     "data": {
      "application/vnd.jupyter.widget-view+json": {
       "model_id": "5c15f3d9e3f4489581bdcebb72c131a2",
       "version_major": 2,
       "version_minor": 0
      },
      "text/plain": [
       "Uploading artifacts:   0%|          | 0/4 [00:00<?, ?it/s]"
      ]
     },
     "metadata": {},
     "output_type": "display_data"
    },
    {
     "output_type": "stream",
     "name": "stdout",
     "output_type": "stream",
     "text": [
      "\uD83C\uDFC3 View run selective-fawn-783 at: https://805922955002043.3.gcp.databricks.com/ml/experiments/2916423882470509/runs/df62ac9ca80d44628cbc68c0310acb62\n\uD83E\uDDEA View experiment at: https://805922955002043.3.gcp.databricks.com/ml/experiments/2916423882470509\nF1 Score: 0.32943066677774924\n"
     ]
    }
   ],
   "source": [
    "from pyspark.ml import Pipeline\n",
    "from pyspark.ml.feature import StandardScaler, OneHotEncoder, StringIndexer, VectorAssembler\n",
    "from pyspark.ml.classification import LogisticRegression\n",
    "from pyspark.ml.evaluation import MulticlassClassificationEvaluator\n",
    "\n",
    "label_indexer = StringIndexer(inputCol=label_col, outputCol=f\"{label_col}_idx\", handleInvalid=\"keep\")\n",
    "\n",
    "cat_feat = [col for col in categorical_cols if col != label_col]\n",
    "\n",
    "# 3. StringIndexer + OneHotEncoder for categorical variables\n",
    "indexers = [StringIndexer(inputCol=col, outputCol=f\"{col}_idx\", handleInvalid='keep') for col in cat_feat]\n",
    "encoders = [OneHotEncoder(inputCol=f\"{col}_idx\", outputCol=f\"{col}_ohe\") for col in cat_feat]\n",
    "\n",
    "# 4. Assemble all features\n",
    "assembler_inputs = [f\"{col}_ohe\" for col in cat_feat] + numeric_cols\n",
    "assembler = VectorAssembler(inputCols=assembler_inputs, outputCol=\"features\")\n",
    "\n",
    "# 4. Standardize features\n",
    "scaler = StandardScaler(inputCol=\"features\", outputCol=\"scaled_features\")\n",
    "\n",
    "# 5. Logistic Regression model (L1 penalty for sparsity)\n",
    "lr = LogisticRegression(\n",
    "    featuresCol=\"scaled_features\",\n",
    "    labelCol=f\"{label_col}_idx\",  # Use the indexed label column\n",
    "    elasticNetParam=1.0,\n",
    "    regParam=0.0,\n",
    "    maxIter=1000\n",
    ")\n",
    "\n",
    "# 6. Build pipeline\n",
    "pipeline = Pipeline(stages=[label_indexer] + indexers + encoders + [assembler, scaler, lr])\n",
    "\n",
    "#print(train_df)\n",
    "\n",
    "# 7. Fit the pipeline\n",
    "model = pipeline.fit(train_df)\n",
    "\n",
    "# 8. Predict on test set\n",
    "predictions = model.transform(test_df)"
   ]
  },
  {
   "cell_type": "code",
   "execution_count": 0,
   "metadata": {
    "application/vnd.databricks.v1+cell": {
     "cellMetadata": {
      "byteLimit": 2048000,
      "rowLimit": 10000
     },
     "inputWidgets": {},
     "nuid": "1825f8f7-3b58-48db-b3ce-bcd759f5695f",
     "showTitle": false,
     "tableResultSettingsMap": {},
     "title": ""
    }
   },
   "outputs": [
    {
     "output_type": "stream",
     "name": "stdout",
     "output_type": "stream",
     "text": [
      "Accuracy: 0.4686\nPrecision: 0.3861\nRecall: 0.4686\nF1 Score: 0.3294\n"
     ]
    }
   ],
   "source": [
    "from pyspark.ml.evaluation import MulticlassClassificationEvaluator\n",
    "\n",
    "# Accuracy\n",
    "evaluator = MulticlassClassificationEvaluator(labelCol=f\"{label_col}_idx\", predictionCol=\"prediction\", metricName=\"accuracy\")\n",
    "accuracy = evaluator.evaluate(predictions)\n",
    "print(f\"Accuracy: {accuracy:.4f}\")\n",
    "\n",
    "# Precision\n",
    "precision_evaluator = MulticlassClassificationEvaluator(labelCol=f\"{label_col}_idx\", predictionCol=\"prediction\", metricName=\"weightedPrecision\")\n",
    "precision = precision_evaluator.evaluate(predictions)\n",
    "print(f\"Precision: {precision:.4f}\")\n",
    "\n",
    "# Recall\n",
    "recall_evaluator = MulticlassClassificationEvaluator(labelCol=f\"{label_col}_idx\", predictionCol=\"prediction\", metricName=\"weightedRecall\")\n",
    "recall = recall_evaluator.evaluate(predictions)\n",
    "print(f\"Recall: {recall:.4f}\")\n",
    "\n",
    "# F1 Score\n",
    "f1_evaluator = MulticlassClassificationEvaluator(labelCol=f\"{label_col}_idx\", predictionCol=\"prediction\", metricName=\"f1\")\n",
    "f1 = f1_evaluator.evaluate(predictions)\n",
    "print(f\"F1 Score: {f1:.4f}\")\n"
   ]
  },
  {
   "cell_type": "markdown",
   "metadata": {
    "application/vnd.databricks.v1+cell": {
     "cellMetadata": {},
     "inputWidgets": {},
     "nuid": "969d7f91-5f54-458b-904c-3927a85ff71a",
     "showTitle": false,
     "tableResultSettingsMap": {},
     "title": ""
    }
   },
   "source": [
    "Here, we see an accuracy of 0.47, but as we will see in the confusion matrix, it's actually worse than it seems because it predicted **Republican** for the vast majority of observations.\n",
    "\n",
    "The F1 Score of 0.33 isn't great either, and the recall being better than the precision makes sense due to the large number of Republican predictions that were correct. "
   ]
  },
  {
   "cell_type": "code",
   "execution_count": 0,
   "metadata": {
    "application/vnd.databricks.v1+cell": {
     "cellMetadata": {
      "byteLimit": 2048000,
      "rowLimit": 10000
     },
     "inputWidgets": {},
     "nuid": "19c2cde6-c37f-484a-959c-ac1cd2d58079",
     "showTitle": false,
     "tableResultSettingsMap": {},
     "title": ""
    }
   },
   "outputs": [],
   "source": [
    "y_true_pred = predictions.select(\"Parties_Description_idx\", \"prediction\")\n",
    "\n",
    "# Convert to Pandas (be cautious with large datasets)\n",
    "y_true_pred_pd = y_true_pred.toPandas()"
   ]
  },
  {
   "cell_type": "code",
   "execution_count": 0,
   "metadata": {
    "application/vnd.databricks.v1+cell": {
     "cellMetadata": {
      "byteLimit": 2048000,
      "rowLimit": 10000
     },
     "inputWidgets": {},
     "nuid": "0c40f851-a46f-49f1-998e-82961ba8c90b",
     "showTitle": false,
     "tableResultSettingsMap": {},
     "title": ""
    }
   },
   "outputs": [],
   "source": [
    "from sklearn.metrics import confusion_matrix\n",
    "import seaborn as sns\n",
    "import matplotlib.pyplot as plt\n",
    "\n",
    "# Compute confusion matrix\n",
    "cm = confusion_matrix(y_true_pred_pd[\"Parties_Description_idx\"], y_true_pred_pd[\"prediction\"])"
   ]
  },
  {
   "cell_type": "code",
   "execution_count": 0,
   "metadata": {
    "application/vnd.databricks.v1+cell": {
     "cellMetadata": {
      "byteLimit": 2048000,
      "rowLimit": 10000
     },
     "inputWidgets": {},
     "nuid": "de125301-d294-44d0-9057-f7be4531ebd0",
     "showTitle": false,
     "tableResultSettingsMap": {},
     "title": ""
    }
   },
   "outputs": [
    {
     "output_type": "display_data",
     "data": {
      "image/png": "[encoded data removed]",
      "text/plain": [
       "<Figure size 1000x700 with 1 Axes>"
      ]
     },
     "metadata": {},
     "output_type": "display_data"
    }
   ],
   "source": [
    "label_mapping = {\n",
    "    0: 'Republican',\n",
    "    1: 'Non-Partisan',\n",
    "    2: 'Democratic',\n",
    "    3: 'Independence',\n",
    "    4: 'Libertarian',\n",
    "    5: 'Green Libertarian',\n",
    "    6: 'Constitution'\n",
    "}\n",
    "\n",
    "labels = [label_mapping[i] for i in sorted(label_mapping.keys())]\n",
    "\n",
    "plt.figure(figsize=(10, 7))\n",
    "sns.heatmap(cm, annot=True, fmt=\"d\", cmap=\"Blues\", cbar=False, xticklabels=labels, yticklabels=labels)\n",
    "plt.xlabel(\"Predicted Label\")\n",
    "plt.ylabel(\"True Label\")\n",
    "plt.title(\"Confusion Matrix\")\n",
    "plt.show()\n"
   ]
  },
  {
   "cell_type": "code",
   "execution_count": 0,
   "metadata": {
    "application/vnd.databricks.v1+cell": {
     "cellMetadata": {
      "byteLimit": 2048000,
      "rowLimit": 10000
     },
     "inputWidgets": {},
     "nuid": "ee8a04fc-76cf-4af1-8f9c-714d16cec091",
     "showTitle": false,
     "tableResultSettingsMap": {},
     "title": ""
    }
   },
   "outputs": [
    {
     "output_type": "stream",
     "name": "stdout",
     "output_type": "stream",
     "text": [
      "+-------------------+-----+--------------------+\n|Parties_Description|count|          proportion|\n+-------------------+-----+--------------------+\n|         Republican|46580| 0.46075929333095933|\n|       Non-Partisan|26192|  0.2590856034977348|\n|         Democratic|21859|  0.2162245039270382|\n|       Independence| 4624| 0.04573960868102954|\n|        Libertarian| 1460|0.014442004471086315|\n|  Green Libertarian|  297|0.002937859813638...|\n|       Constitution|   82| 8.11126278513067E-4|\n+-------------------+-----+--------------------+\n\n"
     ]
    }
   ],
   "source": [
    "total = df.count()\n",
    "\n",
    "# Get normalized value counts\n",
    "df.groupBy(label_col).count() \\\n",
    "  .withColumn(\"proportion\", col(\"count\") / lit(total)) \\\n",
    "  .orderBy(\"count\", ascending=False) \\\n",
    "  .show()"
   ]
  },
  {
   "cell_type": "markdown",
   "metadata": {
    "application/vnd.databricks.v1+cell": {
     "cellMetadata": {},
     "inputWidgets": {},
     "nuid": "89034e61-f8db-454b-b74d-2fbe2861f926",
     "showTitle": false,
     "tableResultSettingsMap": {},
     "title": ""
    }
   },
   "source": [
    "As seen above, the Lasso Regression predictor didn't predict any data points to belong in the four smallest classes, which is a typical challenge of this method in multiclass situations. \n",
    "\n",
    "It doesn't make much sense to resample here, as the most common class, Republican, only accounts for 46% of the data, and we don't want to overrepresent smaller classes. "
   ]
  },
  {
   "cell_type": "markdown",
   "metadata": {
    "application/vnd.databricks.v1+cell": {
     "cellMetadata": {},
     "inputWidgets": {},
     "nuid": "a34a4c6b-7c55-49a4-a36d-3dee78593678",
     "showTitle": false,
     "tableResultSettingsMap": {},
     "title": ""
    }
   },
   "source": [
    "From this model, we can conclude that **Lasso** isn't the best method for dealing with this multiclass problem. Also, it is likely that the socioeconomic predictors we are examining aren't sufficient to make good predictions on party affiliation. \n",
    "\n",
    "It is also interesting to note that using these predictors, Republicans were overpredicted in the model, which could be due to model choice, predictor choice, or a combination of the two. "
   ]
  },
  {
   "cell_type": "code",
   "execution_count": 0,
   "metadata": {
    "application/vnd.databricks.v1+cell": {
     "cellMetadata": {},
     "inputWidgets": {},
     "nuid": "55a8e070-6e4a-48a8-99ca-0bb785dd17bd",
     "showTitle": false,
     "tableResultSettingsMap": {},
     "title": ""
    }
   },
   "outputs": [],
   "source": []
  }
 ],
 "metadata": {
  "application/vnd.databricks.v1+notebook": {
   "computePreferences": null,
   "dashboards": [],
   "environmentMetadata": {
    "base_environment": "",
    "environment_version": "2"
   },
   "inputWidgetPreferences": null,
   "language": "python",
   "notebookMetadata": {
    "pythonIndentUnit": 4
   },
   "notebookName": "keon_part_3",
   "widgets": {}
  },
  "language_info": {
   "name": "python"
  }
 },
 "nbformat": 4,
 "nbformat_minor": 0
}