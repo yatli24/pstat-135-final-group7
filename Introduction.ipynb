{
 "cells": [
  {
   "cell_type": "markdown",
   "metadata": {
    "application/vnd.databricks.v1+cell": {
     "cellMetadata": {},
     "inputWidgets": {},
     "nuid": "4449e311-14f9-4d52-8f94-7f12b0907a6a",
     "showTitle": false,
     "tableResultSettingsMap": {},
     "title": ""
    }
   },
   "source": [
    "**Introduction**"
   ]
  },
  {
   "cell_type": "markdown",
   "metadata": {
    "application/vnd.databricks.v1+cell": {
     "cellMetadata": {},
     "inputWidgets": {},
     "nuid": "f3853d9d-af7a-4475-8370-26c2b330411e",
     "showTitle": false,
     "tableResultSettingsMap": {},
     "title": ""
    }
   },
   "source": [
    "**Research Question**: In the state of Alaska, how do socioeconomic factors—such as estimated household income, ethnicity, gender, home value, education level, age, and occupation group—influence party affiliation?"
   ]
  },
  {
   "cell_type": "markdown",
   "metadata": {
    "application/vnd.databricks.v1+cell": {
     "cellMetadata": {},
     "inputWidgets": {},
     "nuid": "f939b501-421a-4e4d-8018-3fcd3669b955",
     "showTitle": false,
     "tableResultSettingsMap": {},
     "title": ""
    }
   },
   "source": [
    "Alaska joined the United States on January 3, 1959 becoming the 49th U.S. state. This state particiapted in its first presidential election in 1960 with three electoral votes. In 2020 Alaska has a population of 733,000 making it the least densely populated state. The state is composed of around 59% White, 15% Alaska Native, 6% Asian, 3% Black, 1.7% Pacific Islander, and ~7% Hispanic/Latino. Between 1960 and 2020 Alaska particiapted in 16 elections, voting Republican in 15 out of 16 and only once in 1964 voted Democrat.\n",
    "\n",
    "We will be looking at the trends in party affiliation over the past 16 elections in Alaska to determine what socioeconomic factors help to predict an individual's party. A few examples might be that Alaskans with higher median income levels especially those involved in the oil, or mining industry tend to lean Republican aligning with the pro-business and lower-tax policies. Additionally, Indigenous Alaskans which make up about 15-20% tend to support Democrats especially on issues related to environmental policies, and rural infrastructure. White Alaskans who make up the majority of the population have historically leaned Republican especially in suburban and rural counties. We will analyze the data to determine if other factors such as Education level, occupation, age, and average income level significantly affect party affiliation in Alaska."
   ]
  }
 ],
 "metadata": {
  "application/vnd.databricks.v1+notebook": {
   "computePreferences": null,
   "dashboards": [],
   "environmentMetadata": {
    "base_environment": "",
    "environment_version": "2"
   },
   "inputWidgetPreferences": null,
   "language": "python",
   "notebookMetadata": {
    "pythonIndentUnit": 4
   },
   "notebookName": "Introduction",
   "widgets": {}
  },
  "language_info": {
   "name": "python"
  }
 },
 "nbformat": 4,
 "nbformat_minor": 0
}